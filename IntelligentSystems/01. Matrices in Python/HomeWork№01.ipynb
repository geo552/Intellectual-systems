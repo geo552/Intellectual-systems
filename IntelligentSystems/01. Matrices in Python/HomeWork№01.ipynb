{
  "nbformat": 4,
  "nbformat_minor": 0,
  "metadata": {
    "colab": {
      "name": "HomeWork№01.ipynb",
      "provenance": []
    },
    "kernelspec": {
      "name": "python3",
      "display_name": "Python 3"
    }
  },
  "cells": [
    {
      "cell_type": "code",
      "metadata": {
        "id": "pBUnZ3wLGxxr"
      },
      "source": [
        "import numpy as np\r\n",
        "import scipy.io as sio\r\n",
        "import scipy.optimize as so\r\n",
        "import matplotlib.pyplot as plt"
      ],
      "execution_count": 139,
      "outputs": []
    },
    {
      "cell_type": "markdown",
      "metadata": {
        "id": "zbHBqbpOaaqc"
      },
      "source": [
        "## Задание для самостоятельного выполнения\n",
        "\n",
        "1. Объявить следующие матрицы и векторы:\n",
        "$$A = \\left(\n",
        "\\begin{array}{rrr}\n",
        "1 & 2 & 3\\\\\n",
        "-2 & 3 & 0\\\\\n",
        "5 & 1 & 4\n",
        "\\end{array}\n",
        "\\right),\n",
        "B = \\left(\n",
        "\\begin{array}{rrr}\n",
        "1 & 2 & 3\\\\\n",
        "2 & 4 & 6\\\\\n",
        "3 & 7 & 2\n",
        "\\end{array}\n",
        "\\right),\n",
        "u = \\left(\n",
        "\\begin{array}{r}\n",
        "-4\\\\\n",
        "1\\\\\n",
        "1\\end{array}\n",
        "\\right),\n",
        "v = \\left(\n",
        "\\begin{array}{r}\n",
        "3\\\\\n",
        "2\\\\\n",
        "10\\end{array}\n",
        "\\right).\n",
        "$$\n"
      ]
    },
    {
      "cell_type": "code",
      "metadata": {
        "id": "q-EP6XkwFLNO",
        "colab": {
          "base_uri": "https://localhost:8080/"
        },
        "outputId": "852e9332-b2c6-4282-bc2d-f38b4a6628e8"
      },
      "source": [
        "A = np.array([[1, 2, 3], [-2, 3, 0], [5, 1, 4]])\r\n",
        "B = np.array([[1, 2, 3], [2, 4, 6], [3, 7, 2]])\r\n",
        "u = np.array([[-4], [1], [1]])\r\n",
        "v = np.array([[3], [2], [10]])\r\n",
        "print(A)\r\n",
        "print()\r\n",
        "print(B)\r\n",
        "print()\r\n",
        "print(u)\r\n",
        "print()\r\n",
        "print(v)"
      ],
      "execution_count": 27,
      "outputs": [
        {
          "output_type": "stream",
          "text": [
            "[[ 1  2  3]\n",
            " [-2  3  0]\n",
            " [ 5  1  4]]\n",
            "\n",
            "[[1 2 3]\n",
            " [2 4 6]\n",
            " [3 7 2]]\n",
            "\n",
            "[[-4]\n",
            " [ 1]\n",
            " [ 1]]\n",
            "\n",
            "[[ 3]\n",
            " [ 2]\n",
            " [10]]\n"
          ],
          "name": "stdout"
        }
      ]
    },
    {
      "cell_type": "markdown",
      "metadata": {
        "id": "_Z6AbHrhFjmY"
      },
      "source": [
        "* Объявить случайную матрицу $C$ (100x100) и случайный вектор $w$ (100×1).\r\n"
      ]
    },
    {
      "cell_type": "code",
      "metadata": {
        "id": "IOfBHKxUFoOj",
        "colab": {
          "base_uri": "https://localhost:8080/"
        },
        "outputId": "f3354e9a-24ca-42f2-b9b4-df23d198eb07"
      },
      "source": [
        "C = np.random.random((100, 100))\r\n",
        "w = np.random.random((100, 1))\r\n",
        "print (C)\r\n",
        "print ()\r\n",
        "print (w)"
      ],
      "execution_count": 9,
      "outputs": [
        {
          "output_type": "stream",
          "text": [
            "[[0.27830876 0.26608906 0.08476383 ... 0.6755359  0.22704257 0.27118585]\n",
            " [0.03850018 0.50400548 0.9946421  ... 0.46432087 0.11706059 0.96449859]\n",
            " [0.31955803 0.88993906 0.14910596 ... 0.4060669  0.4788498  0.17628215]\n",
            " ...\n",
            " [0.72321004 0.59966456 0.75929764 ... 0.57173404 0.20315693 0.57714992]\n",
            " [0.77723529 0.40662477 0.39811714 ... 0.38588808 0.56222475 0.91111724]\n",
            " [0.6749087  0.24337928 0.90477263 ... 0.22766278 0.02048493 0.8232022 ]]\n",
            "\n",
            "[[3.43317602e-01]\n",
            " [9.69833406e-01]\n",
            " [5.20242898e-01]\n",
            " [1.72387697e-01]\n",
            " [6.43863944e-01]\n",
            " [4.45995848e-01]\n",
            " [7.76714007e-01]\n",
            " [8.57875671e-01]\n",
            " [9.79782032e-01]\n",
            " [1.06051710e-01]\n",
            " [6.32233568e-01]\n",
            " [5.48731894e-01]\n",
            " [1.16277768e-01]\n",
            " [2.46056361e-01]\n",
            " [7.22064120e-01]\n",
            " [9.43996538e-01]\n",
            " [3.26997309e-01]\n",
            " [5.17393333e-01]\n",
            " [2.87675436e-01]\n",
            " [9.81152202e-01]\n",
            " [3.85069027e-01]\n",
            " [8.47996399e-01]\n",
            " [1.88722274e-01]\n",
            " [7.01003906e-01]\n",
            " [2.21251160e-01]\n",
            " [8.14433708e-01]\n",
            " [6.36452552e-01]\n",
            " [7.40404730e-01]\n",
            " [7.40818778e-01]\n",
            " [4.67043257e-01]\n",
            " [5.41034575e-01]\n",
            " [9.93044907e-04]\n",
            " [5.26974238e-01]\n",
            " [6.65467614e-01]\n",
            " [7.24708895e-01]\n",
            " [4.19167728e-01]\n",
            " [6.16075148e-01]\n",
            " [8.58477448e-01]\n",
            " [6.24625684e-04]\n",
            " [1.58109898e-01]\n",
            " [6.32238582e-01]\n",
            " [6.81399964e-01]\n",
            " [2.68110777e-02]\n",
            " [4.79923074e-01]\n",
            " [8.34899328e-01]\n",
            " [6.26446190e-01]\n",
            " [7.60833260e-01]\n",
            " [1.70697864e-01]\n",
            " [5.73392349e-01]\n",
            " [7.97395767e-01]\n",
            " [1.88263053e-01]\n",
            " [2.30812493e-01]\n",
            " [9.05307097e-01]\n",
            " [4.32682191e-01]\n",
            " [9.68962554e-01]\n",
            " [8.24645887e-01]\n",
            " [7.39431981e-01]\n",
            " [2.15956706e-02]\n",
            " [2.77891325e-01]\n",
            " [7.15976332e-01]\n",
            " [1.13724435e-02]\n",
            " [8.83657515e-01]\n",
            " [2.80511780e-02]\n",
            " [7.54939956e-01]\n",
            " [9.72645689e-01]\n",
            " [7.76841725e-01]\n",
            " [2.16669361e-01]\n",
            " [5.19635074e-01]\n",
            " [2.15941038e-01]\n",
            " [2.84840714e-02]\n",
            " [6.95269861e-01]\n",
            " [8.87232440e-01]\n",
            " [4.55386403e-01]\n",
            " [2.80533872e-01]\n",
            " [9.71168218e-01]\n",
            " [9.78669190e-01]\n",
            " [5.74752101e-03]\n",
            " [3.71720366e-01]\n",
            " [7.27709640e-01]\n",
            " [5.66707332e-02]\n",
            " [7.22502380e-01]\n",
            " [3.09191159e-01]\n",
            " [5.27717564e-01]\n",
            " [8.38642572e-01]\n",
            " [9.42190012e-01]\n",
            " [7.01422454e-01]\n",
            " [6.04419199e-01]\n",
            " [9.39955077e-01]\n",
            " [9.08578124e-01]\n",
            " [4.46306725e-01]\n",
            " [6.34025230e-01]\n",
            " [2.95583978e-01]\n",
            " [5.15351238e-01]\n",
            " [4.68650956e-01]\n",
            " [6.83544614e-02]\n",
            " [1.54728114e-01]\n",
            " [3.60126122e-01]\n",
            " [3.27628312e-02]\n",
            " [9.91280859e-01]\n",
            " [6.13992789e-01]]\n"
          ],
          "name": "stdout"
        }
      ]
    },
    {
      "cell_type": "markdown",
      "metadata": {
        "id": "o2CfmJafFojz"
      },
      "source": [
        "* Вычислить выражения (здесь умножение матричное)\r\n",
        "$$A + B, AB, A^3, ABA, v^TA^T(u+2v), u\\cdot v, Cw, w^TC.$$"
      ]
    },
    {
      "cell_type": "code",
      "metadata": {
        "id": "vF2Z9P0tFqrX",
        "colab": {
          "base_uri": "https://localhost:8080/"
        },
        "outputId": "154ea4bb-fd71-4bc7-8eec-0c6af972d49b"
      },
      "source": [
        "print(A+B)"
      ],
      "execution_count": 28,
      "outputs": [
        {
          "output_type": "stream",
          "text": [
            "[[2 4 6]\n",
            " [0 7 6]\n",
            " [8 8 6]]\n"
          ],
          "name": "stdout"
        }
      ]
    },
    {
      "cell_type": "code",
      "metadata": {
        "colab": {
          "base_uri": "https://localhost:8080/"
        },
        "id": "wk99gyY4IXTo",
        "outputId": "3523499e-ce1a-4935-b787-c74fad9c4447"
      },
      "source": [
        "print(np.dot(A,B))"
      ],
      "execution_count": 33,
      "outputs": [
        {
          "output_type": "stream",
          "text": [
            "[[14 31 21]\n",
            " [ 4  8 12]\n",
            " [19 42 29]]\n"
          ],
          "name": "stdout"
        }
      ]
    },
    {
      "cell_type": "code",
      "metadata": {
        "colab": {
          "base_uri": "https://localhost:8080/"
        },
        "id": "Is-NO307IaZt",
        "outputId": "25aa2d4c-4eed-474f-97a8-c75cedf4e08b"
      },
      "source": [
        "print(A ** 3)"
      ],
      "execution_count": 30,
      "outputs": [
        {
          "output_type": "stream",
          "text": [
            "[[  1   8  27]\n",
            " [ -8  27   0]\n",
            " [125   1  64]]\n"
          ],
          "name": "stdout"
        }
      ]
    },
    {
      "cell_type": "code",
      "metadata": {
        "colab": {
          "base_uri": "https://localhost:8080/"
        },
        "id": "Hd0tSCGBIfOz",
        "outputId": "dca7a8d7-1fff-4d8b-d777-161edae8311a"
      },
      "source": [
        "print(np.dot(np.dot(A,B), A))"
      ],
      "execution_count": 34,
      "outputs": [
        {
          "output_type": "stream",
          "text": [
            "[[ 57 142 126]\n",
            " [ 48  44  60]\n",
            " [ 80 193 173]]\n"
          ],
          "name": "stdout"
        }
      ]
    },
    {
      "cell_type": "code",
      "metadata": {
        "colab": {
          "base_uri": "https://localhost:8080/"
        },
        "id": "peuvyPh7Il_n",
        "outputId": "86be0454-cddb-43e2-e0dc-3526e8dc393a"
      },
      "source": [
        "print(np.dot(np.dot(v.T,A.T),(u+2*v)))"
      ],
      "execution_count": 48,
      "outputs": [
        {
          "output_type": "stream",
          "text": [
            "[[1271]]\n"
          ],
          "name": "stdout"
        }
      ]
    },
    {
      "cell_type": "code",
      "metadata": {
        "colab": {
          "base_uri": "https://localhost:8080/"
        },
        "id": "2ASMGjVWLVCU",
        "outputId": "3eecceb4-9840-44dc-efc6-c82ab3550d30"
      },
      "source": [
        "print(u*v)"
      ],
      "execution_count": 43,
      "outputs": [
        {
          "output_type": "stream",
          "text": [
            "[[-12]\n",
            " [  2]\n",
            " [ 10]]\n"
          ],
          "name": "stdout"
        }
      ]
    },
    {
      "cell_type": "code",
      "metadata": {
        "colab": {
          "base_uri": "https://localhost:8080/"
        },
        "id": "3aseHizlLVLL",
        "outputId": "66a74cf8-e3e5-4877-b9a3-14f862e50ded"
      },
      "source": [
        "np.dot(C, w)"
      ],
      "execution_count": 41,
      "outputs": [
        {
          "output_type": "execute_result",
          "data": {
            "text/plain": [
              "array([[24.53198833],\n",
              "       [28.65896053],\n",
              "       [28.22428066],\n",
              "       [25.58818162],\n",
              "       [24.9943195 ],\n",
              "       [28.70316753],\n",
              "       [26.0938863 ],\n",
              "       [29.32916831],\n",
              "       [27.39732967],\n",
              "       [25.26597328],\n",
              "       [27.92663851],\n",
              "       [28.50531726],\n",
              "       [29.36015726],\n",
              "       [25.874899  ],\n",
              "       [27.06722532],\n",
              "       [25.40929627],\n",
              "       [27.36841646],\n",
              "       [23.23686174],\n",
              "       [26.3323937 ],\n",
              "       [26.59443692],\n",
              "       [26.74174281],\n",
              "       [28.38051823],\n",
              "       [29.50852631],\n",
              "       [27.86184378],\n",
              "       [24.521756  ],\n",
              "       [25.00279251],\n",
              "       [28.07120361],\n",
              "       [25.14759706],\n",
              "       [26.2166986 ],\n",
              "       [25.29334394],\n",
              "       [27.93683092],\n",
              "       [24.94907727],\n",
              "       [29.74632246],\n",
              "       [27.44154372],\n",
              "       [27.72659227],\n",
              "       [27.2829446 ],\n",
              "       [25.54050602],\n",
              "       [29.38800992],\n",
              "       [25.48177221],\n",
              "       [26.03322791],\n",
              "       [28.4944408 ],\n",
              "       [23.87050569],\n",
              "       [28.83530833],\n",
              "       [25.13719086],\n",
              "       [25.82217087],\n",
              "       [28.98829718],\n",
              "       [24.98261355],\n",
              "       [28.60025084],\n",
              "       [27.32799268],\n",
              "       [27.76247279],\n",
              "       [27.22387581],\n",
              "       [26.63226456],\n",
              "       [27.08780245],\n",
              "       [29.04458318],\n",
              "       [27.08232819],\n",
              "       [29.66391717],\n",
              "       [24.14436046],\n",
              "       [24.10532801],\n",
              "       [26.00928211],\n",
              "       [30.10279457],\n",
              "       [27.06788297],\n",
              "       [24.8679268 ],\n",
              "       [24.40886657],\n",
              "       [27.87316331],\n",
              "       [26.94119818],\n",
              "       [28.46110019],\n",
              "       [24.76411893],\n",
              "       [25.41347647],\n",
              "       [27.57882506],\n",
              "       [24.10094754],\n",
              "       [23.83708248],\n",
              "       [27.3298298 ],\n",
              "       [29.76793697],\n",
              "       [29.1872175 ],\n",
              "       [27.23779415],\n",
              "       [26.78205838],\n",
              "       [27.23635965],\n",
              "       [27.72577725],\n",
              "       [26.93587207],\n",
              "       [22.62685955],\n",
              "       [27.08358344],\n",
              "       [25.74187577],\n",
              "       [26.6142848 ],\n",
              "       [26.26662962],\n",
              "       [23.22191076],\n",
              "       [29.58999564],\n",
              "       [26.34212841],\n",
              "       [25.2762257 ],\n",
              "       [27.36500161],\n",
              "       [28.72552372],\n",
              "       [27.2078135 ],\n",
              "       [25.98974848],\n",
              "       [25.23244274],\n",
              "       [25.12306577],\n",
              "       [25.18732642],\n",
              "       [29.33870846],\n",
              "       [25.95873844],\n",
              "       [28.57467585],\n",
              "       [26.6781874 ],\n",
              "       [25.28276429]])"
            ]
          },
          "metadata": {
            "tags": []
          },
          "execution_count": 41
        }
      ]
    },
    {
      "cell_type": "code",
      "metadata": {
        "colab": {
          "base_uri": "https://localhost:8080/"
        },
        "id": "7TIrV9CZLVVO",
        "outputId": "784f36d4-dff7-4910-b6de-8927d9b0d090"
      },
      "source": [
        "np.dot(w.T, C)"
      ],
      "execution_count": 40,
      "outputs": [
        {
          "output_type": "execute_result",
          "data": {
            "text/plain": [
              "array([[26.46944715, 29.35469922, 27.82442942, 27.52877888, 28.26322766,\n",
              "        26.27180002, 27.91492   , 24.76190997, 26.23520032, 28.12312635,\n",
              "        26.45801708, 28.24127315, 27.29723455, 26.6492775 , 27.93795825,\n",
              "        25.62997756, 28.52356485, 27.27963721, 28.28954469, 25.61082473,\n",
              "        28.15637197, 28.38016354, 29.56116409, 24.32601006, 25.35569904,\n",
              "        26.39396183, 26.73395394, 24.37776195, 26.08286824, 27.93595496,\n",
              "        27.28620711, 24.92169113, 27.80646929, 29.7047088 , 28.16395534,\n",
              "        27.47005333, 25.48316845, 28.01883432, 26.60306244, 24.77094655,\n",
              "        25.69483171, 27.72275889, 28.9213478 , 27.69634156, 25.81796056,\n",
              "        27.44897124, 25.56334394, 25.92620248, 27.72437352, 27.28375496,\n",
              "        22.09798464, 28.95870767, 31.72029877, 25.46802197, 26.72477887,\n",
              "        29.08839451, 27.21899744, 26.30079062, 28.14924166, 24.26390061,\n",
              "        25.98832172, 25.62819852, 24.1005974 , 27.70307502, 27.53059665,\n",
              "        27.31678985, 28.15470799, 26.55348104, 25.80047368, 26.98646814,\n",
              "        25.69566708, 26.87256204, 26.07030238, 28.54717634, 28.63193065,\n",
              "        24.27303347, 24.86321078, 26.88645674, 26.90867744, 24.79680596,\n",
              "        23.55176099, 26.80899845, 27.61777485, 30.37595707, 24.92073934,\n",
              "        27.00923552, 24.86475964, 25.52277938, 24.77568152, 30.20061178,\n",
              "        24.91862323, 27.23784754, 28.93501736, 26.72140435, 26.41138839,\n",
              "        27.94045389, 27.64344527, 25.16352443, 25.08761007, 27.37549141]])"
            ]
          },
          "metadata": {
            "tags": []
          },
          "execution_count": 40
        }
      ]
    },
    {
      "cell_type": "markdown",
      "metadata": {
        "id": "L0cOW5bmFq0J"
      },
      "source": [
        "* Построить матрицу размера $20×20$, элементы которой равны произведениям индексов. Как это сделать без использования циклов?"
      ]
    },
    {
      "cell_type": "code",
      "metadata": {
        "id": "ZUdWah9dFw2y",
        "colab": {
          "base_uri": "https://localhost:8080/"
        },
        "outputId": "d227834f-dc19-44f2-ce45-b44e8424c8f2"
      },
      "source": [
        "i, j = np.meshgrid(np.arange(20), np.arange(20))\r\n",
        "a = i*j\r\n",
        "print (a)"
      ],
      "execution_count": 53,
      "outputs": [
        {
          "output_type": "stream",
          "text": [
            "[[  0   0   0   0   0   0   0   0   0   0   0   0   0   0   0   0   0   0\n",
            "    0   0]\n",
            " [  0   1   2   3   4   5   6   7   8   9  10  11  12  13  14  15  16  17\n",
            "   18  19]\n",
            " [  0   2   4   6   8  10  12  14  16  18  20  22  24  26  28  30  32  34\n",
            "   36  38]\n",
            " [  0   3   6   9  12  15  18  21  24  27  30  33  36  39  42  45  48  51\n",
            "   54  57]\n",
            " [  0   4   8  12  16  20  24  28  32  36  40  44  48  52  56  60  64  68\n",
            "   72  76]\n",
            " [  0   5  10  15  20  25  30  35  40  45  50  55  60  65  70  75  80  85\n",
            "   90  95]\n",
            " [  0   6  12  18  24  30  36  42  48  54  60  66  72  78  84  90  96 102\n",
            "  108 114]\n",
            " [  0   7  14  21  28  35  42  49  56  63  70  77  84  91  98 105 112 119\n",
            "  126 133]\n",
            " [  0   8  16  24  32  40  48  56  64  72  80  88  96 104 112 120 128 136\n",
            "  144 152]\n",
            " [  0   9  18  27  36  45  54  63  72  81  90  99 108 117 126 135 144 153\n",
            "  162 171]\n",
            " [  0  10  20  30  40  50  60  70  80  90 100 110 120 130 140 150 160 170\n",
            "  180 190]\n",
            " [  0  11  22  33  44  55  66  77  88  99 110 121 132 143 154 165 176 187\n",
            "  198 209]\n",
            " [  0  12  24  36  48  60  72  84  96 108 120 132 144 156 168 180 192 204\n",
            "  216 228]\n",
            " [  0  13  26  39  52  65  78  91 104 117 130 143 156 169 182 195 208 221\n",
            "  234 247]\n",
            " [  0  14  28  42  56  70  84  98 112 126 140 154 168 182 196 210 224 238\n",
            "  252 266]\n",
            " [  0  15  30  45  60  75  90 105 120 135 150 165 180 195 210 225 240 255\n",
            "  270 285]\n",
            " [  0  16  32  48  64  80  96 112 128 144 160 176 192 208 224 240 256 272\n",
            "  288 304]\n",
            " [  0  17  34  51  68  85 102 119 136 153 170 187 204 221 238 255 272 289\n",
            "  306 323]\n",
            " [  0  18  36  54  72  90 108 126 144 162 180 198 216 234 252 270 288 306\n",
            "  324 342]\n",
            " [  0  19  38  57  76  95 114 133 152 171 190 209 228 247 266 285 304 323\n",
            "  342 361]]\n"
          ],
          "name": "stdout"
        }
      ]
    },
    {
      "cell_type": "markdown",
      "metadata": {
        "id": "Z9kOQzYfFw_8"
      },
      "source": [
        "* Сохранить матрицы и векторы в один общий файл. Для проверки загрузить матрицы из файла."
      ]
    },
    {
      "cell_type": "code",
      "metadata": {
        "id": "dAPvmMUEFy10",
        "colab": {
          "base_uri": "https://localhost:8080/"
        },
        "outputId": "29ebac9f-8ac6-4aae-954e-ced26fc52784"
      },
      "source": [
        "sio.savemat('data.mat', {'A':A})\r\n",
        "tmpA = sio.loadmat('data.mat')['A']\r\n",
        "print(tmpA)"
      ],
      "execution_count": 70,
      "outputs": [
        {
          "output_type": "stream",
          "text": [
            "[[ 1  2  3]\n",
            " [-2  3  0]\n",
            " [ 5  1  4]]\n"
          ],
          "name": "stdout"
        }
      ]
    },
    {
      "cell_type": "markdown",
      "metadata": {
        "id": "kDiDTiASFy7r"
      },
      "source": [
        "* Найти сумму положительных элементов матриц $A$ и $B$."
      ]
    },
    {
      "cell_type": "code",
      "metadata": {
        "id": "kwYMcgY6F0ba",
        "colab": {
          "base_uri": "https://localhost:8080/"
        },
        "outputId": "d4faa431-9d3b-48cb-e16e-e564de975940"
      },
      "source": [
        "print(np.sum(A[A>0]))\r\n",
        "print(np.sum(B[B>0]))\r\n"
      ],
      "execution_count": 67,
      "outputs": [
        {
          "output_type": "stream",
          "text": [
            "19\n",
            "30\n"
          ],
          "name": "stdout"
        }
      ]
    },
    {
      "cell_type": "markdown",
      "metadata": {
        "id": "UOcWMGBJF0gs"
      },
      "source": [
        "* Записать элементы матрицы $A$ в одну строку и выбрать из них только стоящие на чётных позициях."
      ]
    },
    {
      "cell_type": "code",
      "metadata": {
        "id": "DxiXGrTgF2LG",
        "colab": {
          "base_uri": "https://localhost:8080/"
        },
        "outputId": "9adb235e-8638-4f13-c196-37a65f113a82"
      },
      "source": [
        "print(np.reshape(A,-1))\r\n",
        "print(np.reshape(A,-1)[::2])"
      ],
      "execution_count": 79,
      "outputs": [
        {
          "output_type": "stream",
          "text": [
            "[ 1  2  3 -2  3  0  5  1  4]\n",
            "[1 3 3 5 4]\n"
          ],
          "name": "stdout"
        }
      ]
    },
    {
      "cell_type": "markdown",
      "metadata": {
        "id": "ZjhpgyX6F2W7"
      },
      "source": [
        "* Найти обратные и псевдообратные матрицы для $A$, $B$ и $C$. Проверить правильность вычислений умножением."
      ]
    },
    {
      "cell_type": "code",
      "metadata": {
        "id": "tYmONPloF3tr",
        "colab": {
          "base_uri": "https://localhost:8080/"
        },
        "outputId": "e0ab9777-5c8a-4dc7-92d5-43c987424262"
      },
      "source": [
        "print(np.linalg.inv(A))\r\n",
        "print()\r\n",
        "invA = np.linalg.pinv(A)\r\n",
        "print(invA)\r\n",
        "print()\r\n",
        "print(np.around(A.dot(invA), decimals=1))"
      ],
      "execution_count": 98,
      "outputs": [
        {
          "output_type": "stream",
          "text": [
            "[[-0.52173913  0.2173913   0.39130435]\n",
            " [-0.34782609  0.47826087  0.26086957]\n",
            " [ 0.73913043 -0.39130435 -0.30434783]]\n",
            "\n",
            "[[-0.52173913  0.2173913   0.39130435]\n",
            " [-0.34782609  0.47826087  0.26086957]\n",
            " [ 0.73913043 -0.39130435 -0.30434783]]\n",
            "\n",
            "[[ 1. -0. -0.]\n",
            " [ 0.  1. -0.]\n",
            " [ 0. -0.  1.]]\n"
          ],
          "name": "stdout"
        }
      ]
    },
    {
      "cell_type": "code",
      "metadata": {
        "colab": {
          "base_uri": "https://localhost:8080/"
        },
        "id": "VfhYdPcBalx6",
        "outputId": "f73abd1d-da6b-4120-d99d-cb529107414e"
      },
      "source": [
        "print('Из-за сингулярности падает ошибка, добавим немного шума')\r\n",
        "tmpB = B+0.00001*np.random.rand(1,3)\r\n",
        "print(np.linalg.inv(tmpB))\r\n",
        "print()\r\n",
        "invB = np.linalg.pinv(tmpB)\r\n",
        "print(invB)\r\n",
        "print()\r\n",
        "print(np.around(tmpB.dot(invB), decimals=1))"
      ],
      "execution_count": 106,
      "outputs": [
        {
          "output_type": "stream",
          "text": [
            "Из-за сингулярности падает ошибка, добавим немного шума\n",
            "[[ 3.27691062e+06 -1.63845611e+06 -1.66537094e+00]\n",
            " [-1.34931637e+06  6.74658458e+05  8.62211564e-01]\n",
            " [-1.92759624e+05  9.63800654e+04 -1.96840623e-02]]\n",
            "\n",
            "[[ 3.27691063e+06 -1.63845612e+06 -1.66537095e+00]\n",
            " [-1.34931638e+06  6.74658461e+05  8.62211567e-01]\n",
            " [-1.92759625e+05  9.63800658e+04 -1.96840618e-02]]\n",
            "\n",
            "[[ 1. -0. -0.]\n",
            " [ 0.  1. -0.]\n",
            " [ 0.  0.  1.]]\n"
          ],
          "name": "stdout"
        }
      ]
    },
    {
      "cell_type": "code",
      "metadata": {
        "colab": {
          "base_uri": "https://localhost:8080/"
        },
        "id": "9XTzp4hMal7M",
        "outputId": "45884a90-e137-4029-9eb7-5152ccab7722"
      },
      "source": [
        "print(np.linalg.inv(C))\r\n",
        "print()\r\n",
        "invC = np.linalg.pinv(C)\r\n",
        "print(invC)\r\n",
        "print()\r\n",
        "print(np.around(C.dot(invC), decimals=1))"
      ],
      "execution_count": 99,
      "outputs": [
        {
          "output_type": "stream",
          "text": [
            "[[-0.11726308 -0.67710013  0.7994668  ...  0.14969429  2.99246366\n",
            "  -2.54739516]\n",
            " [ 0.29501263 -0.2109706  -2.28506569 ...  0.75995118 -1.89685582\n",
            "   2.297193  ]\n",
            " [ 0.07293035  0.15873413  0.13755956 ... -0.16031385  0.28617049\n",
            "  -0.36228802]\n",
            " ...\n",
            " [ 0.12807985 -0.76109074  0.37324452 ...  0.3156901   1.63065753\n",
            "  -1.63181107]\n",
            " [-0.21822503 -0.06255896  1.26991589 ... -0.54193819  0.66201343\n",
            "  -0.74963659]\n",
            " [ 0.0458711  -0.50358958  2.39594888 ... -0.73113876  1.70354761\n",
            "  -2.28895146]]\n",
            "\n",
            "[[-0.11726308 -0.67710013  0.7994668  ...  0.14969429  2.99246366\n",
            "  -2.54739516]\n",
            " [ 0.29501263 -0.2109706  -2.28506569 ...  0.75995118 -1.89685582\n",
            "   2.297193  ]\n",
            " [ 0.07293035  0.15873413  0.13755956 ... -0.16031385  0.28617049\n",
            "  -0.36228802]\n",
            " ...\n",
            " [ 0.12807985 -0.76109074  0.37324452 ...  0.3156901   1.63065753\n",
            "  -1.63181107]\n",
            " [-0.21822503 -0.06255896  1.26991589 ... -0.54193819  0.66201343\n",
            "  -0.74963659]\n",
            " [ 0.0458711  -0.50358958  2.39594888 ... -0.73113876  1.70354761\n",
            "  -2.28895146]]\n",
            "\n",
            "[[ 1. -0.  0. ...  0.  0. -0.]\n",
            " [ 0.  1. -0. ...  0.  0.  0.]\n",
            " [ 0. -0.  1. ...  0.  0. -0.]\n",
            " ...\n",
            " [ 0. -0.  0. ...  1.  0. -0.]\n",
            " [-0. -0. -0. ...  0.  1. -0.]\n",
            " [ 0. -0.  0. ...  0.  0.  1.]]\n"
          ],
          "name": "stdout"
        }
      ]
    },
    {
      "cell_type": "markdown",
      "metadata": {
        "id": "Qy4wnXkjF3ze"
      },
      "source": [
        "* Решить систему уравнений\r\n",
        "$$\r\n",
        "\\left\\{\r\n",
        "\\begin{array}{rrrr}\r\n",
        "32x_1  &+7x_2  &-6x_3 &= 12, \\\\\r\n",
        "-5x_1  &-20x_2 &+3x_3 &= 3, \\\\\r\n",
        "       & x_2   &-3x_3 &= 7.\r\n",
        "\\end{array}\r\n",
        "\\right.\r\n",
        "$$\r\n",
        "Проверить решение подстановкой."
      ]
    },
    {
      "cell_type": "code",
      "metadata": {
        "id": "BAp8JuYBF6b0",
        "colab": {
          "base_uri": "https://localhost:8080/"
        },
        "outputId": "110c1539-e13c-45ee-c837-ffa772c35c23"
      },
      "source": [
        "a = np.array([[32, 7, -6],[-5, -20, 3],[0, 1, -3]])\r\n",
        "b = np.array([12,3,7])\r\n",
        "x = np.linalg.solve(a,b)\r\n",
        "print(x)\r\n",
        "print(a.dot(x))"
      ],
      "execution_count": 114,
      "outputs": [
        {
          "output_type": "stream",
          "text": [
            "[ 0.02058319 -0.53173242 -2.51057747]\n",
            "[12.  3.  7.]\n"
          ],
          "name": "stdout"
        }
      ]
    },
    {
      "cell_type": "markdown",
      "metadata": {
        "id": "fOcxFz8RF6hu"
      },
      "source": [
        "* Найти собственные значения и собственные векторы матриц $A$ и $B$. (Если для некоторой матрицы $M$ выполняется условие $Mx=\\lambda x,$ то вектор $x$ и число $\\lambda$ называются собственными вектором и числом матрицы.)"
      ]
    },
    {
      "cell_type": "code",
      "metadata": {
        "id": "Iu3Zs-ZzF8Zc",
        "colab": {
          "base_uri": "https://localhost:8080/"
        },
        "outputId": "962156fe-5242-44ec-d493-7c4127483187"
      },
      "source": [
        "eigA = np.linalg.eig(A) \r\n",
        "print(eigA[0])\r\n",
        "print()\r\n",
        "print(eigA[1])"
      ],
      "execution_count": 122,
      "outputs": [
        {
          "output_type": "stream",
          "text": [
            "[-1.2048138   6.04880331  3.1560105 ]\n",
            "\n",
            "[[ 0.65469823  0.41079451 -0.06309612]\n",
            " [ 0.31140415 -0.26947918  0.80887018]\n",
            " [-0.68876533  0.87099302 -0.58459209]]\n"
          ],
          "name": "stdout"
        }
      ]
    },
    {
      "cell_type": "code",
      "metadata": {
        "colab": {
          "base_uri": "https://localhost:8080/"
        },
        "id": "84rhM6UzgcVi",
        "outputId": "fe095567-8749-4c80-8816-c5f7f7b892d7"
      },
      "source": [
        "eigB = np.linalg.eig(B) \r\n",
        "print(eigB[0])\r\n",
        "print()\r\n",
        "print(eigB[1])"
      ],
      "execution_count": 119,
      "outputs": [
        {
          "output_type": "stream",
          "text": [
            "[ 1.07972598e+01 -3.21194894e-17 -3.79725976e+00]\n",
            "\n",
            "[[-0.33836643 -0.92331326 -0.27117218]\n",
            " [-0.67673286  0.38018781 -0.54234436]\n",
            " [-0.65386603  0.05431254  0.7951907 ]]\n"
          ],
          "name": "stdout"
        }
      ]
    },
    {
      "cell_type": "markdown",
      "metadata": {
        "id": "xMPD-EgoF8f7"
      },
      "source": [
        "* Найти минимумы функций\r\n",
        "$$f_1(x) = 5(x-2)^4 - \\frac1{x^2+8},$$\r\n",
        "$$f_2(x_1, x_2) = 4(x_1-3x_2)^2+7x_1^4.$$"
      ]
    },
    {
      "cell_type": "code",
      "metadata": {
        "id": "NsMfTKrMF-QF",
        "colab": {
          "base_uri": "https://localhost:8080/"
        },
        "outputId": "c898d993-9e67-4173-afc3-6aad708a730e"
      },
      "source": [
        "def f1(x):\r\n",
        "  return 5 * (x - 2) ** 4 - 1/(x ** 2 + 8)\r\n",
        "\r\n",
        "x_min = so.minimize(f1, 0.0, method='BFGS')\r\n",
        "print(x_min)"
      ],
      "execution_count": 126,
      "outputs": [
        {
          "output_type": "stream",
          "text": [
            "-0.08333333333333333\n",
            "      fun: -0.08568445282742963\n",
            " hess_inv: array([[1.31449177]])\n",
            "      jac: array([-6.77071512e-07])\n",
            "  message: 'Optimization terminated successfully.'\n",
            "     nfev: 42\n",
            "      nit: 13\n",
            "     njev: 14\n",
            "   status: 0\n",
            "  success: True\n",
            "        x: array([1.88781837])\n"
          ],
          "name": "stdout"
        }
      ]
    },
    {
      "cell_type": "code",
      "metadata": {
        "colab": {
          "base_uri": "https://localhost:8080/"
        },
        "id": "WKCV1P8pg7uQ",
        "outputId": "76275a90-de24-44a8-9558-9642453e321d"
      },
      "source": [
        "def f2(xs):\r\n",
        "  return 4 * (xs[0] - 3 * xs[1]) ** 2 + 7 * xs[0] ** 4\r\n",
        "\r\n",
        "def df2(xs):\r\n",
        "  dfdx0 = 28 * xs[0] ** 3 + 8 * xs[0] - 24 * xs[1]\r\n",
        "  dfdx1 = 72 * xs[1] - 24 * xs[0]\r\n",
        "  return np.array([dfdx0, dfdx1])\r\n",
        "\r\n",
        "x_min = so.minimize(f2, [0.0, 0.0], method=\"BFGS\", jac=df2)\r\n",
        "print(x_min)"
      ],
      "execution_count": 138,
      "outputs": [
        {
          "output_type": "stream",
          "text": [
            "      fun: 0.0\n",
            " hess_inv: array([[1, 0],\n",
            "       [0, 1]])\n",
            "      jac: array([0., 0.])\n",
            "  message: 'Optimization terminated successfully.'\n",
            "     nfev: 1\n",
            "      nit: 0\n",
            "     njev: 1\n",
            "   status: 0\n",
            "  success: True\n",
            "        x: array([0., 0.])\n"
          ],
          "name": "stdout"
        }
      ]
    },
    {
      "cell_type": "markdown",
      "metadata": {
        "id": "KF9Ex7cCF-Yg"
      },
      "source": [
        "* Построить графики функций в одной системе координат\r\n",
        "$$g_1(x)=x^5-2x^4+3x-7,$$\r\n",
        "$$g_2(x)=x^5+2x^4-3x-7.$$\r\n",
        "Подписать оси, указать заголовок и отобразить легенду."
      ]
    },
    {
      "cell_type": "code",
      "metadata": {
        "id": "R7t_9k6DF_1k"
      },
      "source": [
        "from matplotlib import rc\r\n",
        "rc('font', family='Verdana')"
      ],
      "execution_count": 148,
      "outputs": []
    },
    {
      "cell_type": "code",
      "metadata": {
        "colab": {
          "base_uri": "https://localhost:8080/",
          "height": 295
        },
        "id": "tHRv9IT4lvA6",
        "outputId": "dcd64048-5112-4aac-b682-42f19e9a1012"
      },
      "source": [
        "x = np.linspace(0, 10, 100)\r\n",
        "g1 = x ** 5 - 2 * x ** 4 + 3 * x  - 7\r\n",
        "g2 = x ** 5 + 2 * x ** 4 - 3 * x  - 7\r\n",
        "\r\n",
        "plt.plot(x, g1, ':r')\r\n",
        "plt.plot(x, g2, '-.b')\r\n",
        "\r\n",
        "plt.xlabel('x')\r\n",
        "plt.ylabel('g1, g2')\r\n",
        "\r\n",
        "plt.legend(['g1','g2'])\r\n",
        "\r\n",
        "plt.title('Графики функций')\r\n",
        "\r\n",
        "plt.show()"
      ],
      "execution_count": 149,
      "outputs": [
        {
          "output_type": "display_data",
          "data": {
            "image/png": "[encoded data removed]",
            "text/plain": [
              "<Figure size 432x288 with 1 Axes>"
            ]
          },
          "metadata": {
            "tags": [],
            "needs_background": "light"
          }
        }
      ]
    },
    {
      "cell_type": "markdown",
      "metadata": {
        "id": "qJK_hOP7F_8W"
      },
      "source": [
        "* Построить графики этих же функций в двух системах координат: одна слева, другая справа."
      ]
    },
    {
      "cell_type": "code",
      "metadata": {
        "id": "viwHO-UxGBP1",
        "colab": {
          "base_uri": "https://localhost:8080/",
          "height": 265
        },
        "outputId": "0548e316-3e11-472f-a626-52efe407671c"
      },
      "source": [
        "x = np.linspace(0, 10, 100)\r\n",
        "g1 = x ** 5 - 2 * x ** 4 + 3 * x  - 7\r\n",
        "g2 = x ** 5 + 2 * x ** 4 - 3 * x  - 7\r\n",
        "\r\n",
        "plt.subplot(1,2,1)\r\n",
        "plt.plot(x, g1)\r\n",
        "\r\n",
        "plt.subplot(1,2,2)\r\n",
        "plt.plot(x, g2)\r\n",
        "\r\n",
        "plt.show()"
      ],
      "execution_count": 159,
      "outputs": [
        {
          "output_type": "display_data",
          "data": {
            "image/png": "[encoded data removed]",
            "text/plain": [
              "<Figure size 432x288 with 2 Axes>"
            ]
          },
          "metadata": {
            "tags": [],
            "needs_background": "light"
          }
        }
      ]
    },
    {
      "cell_type": "markdown",
      "metadata": {
        "id": "uYzsktQDGBWz"
      },
      "source": [
        "* Найти по одному из нулей каждой из функций $g_1$ и $g_2$."
      ]
    },
    {
      "cell_type": "code",
      "metadata": {
        "id": "C28DTXEeGCAu",
        "colab": {
          "base_uri": "https://localhost:8080/"
        },
        "outputId": "4d296374-5c58-4dd8-c303-2918812dc34e"
      },
      "source": [
        "def g1(x):\r\n",
        "  return x ** 5 - 2 * x ** 4 + 3 * x  - 7\r\n",
        "\r\n",
        "x0 = so.brentq(g1, -10, 10)\r\n",
        "print(x0)"
      ],
      "execution_count": 164,
      "outputs": [
        {
          "output_type": "stream",
          "text": [
            "2.0485199951951514\n"
          ],
          "name": "stdout"
        }
      ]
    },
    {
      "cell_type": "code",
      "metadata": {
        "colab": {
          "base_uri": "https://localhost:8080/"
        },
        "id": "JD6Zst10p0hf",
        "outputId": "4dfdb73b-52c8-48ee-ab9b-46fc6fd6e3b6"
      },
      "source": [
        "def g2(x):\r\n",
        "  return x ** 5 + 2 * x ** 4 - 3 * x  - 7\r\n",
        "\r\n",
        "x0 = so.brentq(g2, -10, 10)\r\n",
        "print(x0)"
      ],
      "execution_count": 163,
      "outputs": [
        {
          "output_type": "stream",
          "text": [
            "1.3476781350684042\n"
          ],
          "name": "stdout"
        }
      ]
    }
  ]
}