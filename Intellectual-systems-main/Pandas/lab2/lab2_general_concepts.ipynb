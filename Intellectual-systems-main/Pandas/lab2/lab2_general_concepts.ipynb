{
 "cells": [
  {
   "cell_type": "markdown",
   "metadata": {
    "id": "vVB4NKqc7LHL"
   },
   "source": [
    "### Лабораторная работа 2: основные понятия"
   ]
  },
  {
   "cell_type": "markdown",
   "metadata": {
    "id": "MM9k8sV_7LHX"
   },
   "source": [
    "В сегодняшней лабораторной будем работать с данными о проданных на аукционе автомобилях (`Carvana Car Prediction`). Целевым признаком здесь является наличие скрытых продавцом существенных недостатков. \n",
    "\n",
    "Carvana &mdash; компания-перекупщик автомобилей, соответственно, ее задача &mdash; не допустить скупку автомобилей со скрытыми недостатками, так как их впоследствии тяжелее продавать."
   ]
  },
  {
   "cell_type": "markdown",
   "metadata": {
    "id": "CmNIF9Ks7LHZ"
   },
   "source": [
    "## 1"
   ]
  },
  {
   "cell_type": "markdown",
   "metadata": {
    "id": "JGRGJmG87LHa"
   },
   "source": [
    "Загрузите данные о проданных на аукционе автомобилях. Посмотрите на \"сырые\" данные. \n",
    "\n",
    "Просмотрите файл `DataDictionary-ru.txt` и поймите, что означают столбцы матрицы. Выведите статистику по столбцам.\n"
   ]
  },
  {
   "cell_type": "code",
   "execution_count": 449,
   "metadata": {
    "id": "_zh2L7p_7LHb"
   },
   "outputs": [],
   "source": [
    "import pandas as pd"
   ]
  },
  {
   "cell_type": "code",
   "execution_count": null,
   "metadata": {
    "colab": {
     "base_uri": "https://localhost:8080/"
    },
    "id": "cCk-jJAV7LHc",
    "outputId": "15096015-dd89-4978-d472-e424e6a699ae"
   },
   "outputs": [
    {
     "name": "stdout",
     "output_type": "stream",
     "text": [
      "       RefId  IsBadBuy  PurchDate  ... VehBCost  IsOnlineSale  WarrantyCost\n",
      "0          1         0  12/7/2009  ...   7100.0             0          1113\n",
      "1          2         0  12/7/2009  ...   7600.0             0          1053\n",
      "2          3         0  12/7/2009  ...   4900.0             0          1389\n",
      "3          4         0  12/7/2009  ...   4100.0             0           630\n",
      "4          5         0  12/7/2009  ...   4000.0             0          1020\n",
      "...      ...       ...        ...  ...      ...           ...           ...\n",
      "72978  73010         1  12/2/2009  ...   4200.0             0           993\n",
      "72979  73011         0  12/2/2009  ...   6200.0             0          1038\n",
      "72980  73012         0  12/2/2009  ...   8200.0             0          1893\n",
      "72981  73013         0  12/2/2009  ...   7000.0             0          1974\n",
      "72982  73014         0  12/2/2009  ...   8000.0             0          1313\n",
      "\n",
      "[72983 rows x 34 columns]\n"
     ]
    }
   ],
   "source": [
    "# место для кода\n",
    "fixed_df = pd.read_csv('data.csv', delimiter=',')\n",
    "print(fixed_df)"
   ]
  },
  {
   "cell_type": "code",
   "execution_count": 450,
   "metadata": {
    "colab": {
     "base_uri": "https://localhost:8080/",
     "height": 317
    },
    "id": "jqmrfU9y77MG",
    "outputId": "3178f9f0-14dd-4f16-91b5-f09d58ef7ee7"
   },
   "outputs": [
    {
     "data": {
      "text/html": [
       "<div>\n",
       "<style scoped>\n",
       "    .dataframe tbody tr th:only-of-type {\n",
       "        vertical-align: middle;\n",
       "    }\n",
       "\n",
       "    .dataframe tbody tr th {\n",
       "        vertical-align: top;\n",
       "    }\n",
       "\n",
       "    .dataframe thead th {\n",
       "        text-align: right;\n",
       "    }\n",
       "</style>\n",
       "<table border=\"1\" class=\"dataframe\">\n",
       "  <thead>\n",
       "    <tr style=\"text-align: right;\">\n",
       "      <th></th>\n",
       "      <th>RefId</th>\n",
       "      <th>IsBadBuy</th>\n",
       "      <th>VehYear</th>\n",
       "      <th>VehicleAge</th>\n",
       "      <th>WheelTypeID</th>\n",
       "      <th>VehOdo</th>\n",
       "      <th>MMRAcquisitionAuctionAveragePrice</th>\n",
       "      <th>MMRAcquisitionAuctionCleanPrice</th>\n",
       "      <th>MMRAcquisitionRetailAveragePrice</th>\n",
       "      <th>MMRAcquisitonRetailCleanPrice</th>\n",
       "      <th>MMRCurrentAuctionAveragePrice</th>\n",
       "      <th>MMRCurrentAuctionCleanPrice</th>\n",
       "      <th>MMRCurrentRetailAveragePrice</th>\n",
       "      <th>MMRCurrentRetailCleanPrice</th>\n",
       "      <th>BYRNO</th>\n",
       "      <th>VNZIP1</th>\n",
       "      <th>VehBCost</th>\n",
       "      <th>IsOnlineSale</th>\n",
       "      <th>WarrantyCost</th>\n",
       "    </tr>\n",
       "  </thead>\n",
       "  <tbody>\n",
       "    <tr>\n",
       "      <th>count</th>\n",
       "      <td>72983.000000</td>\n",
       "      <td>72983.000000</td>\n",
       "      <td>72983.000000</td>\n",
       "      <td>72983.000000</td>\n",
       "      <td>69814.000000</td>\n",
       "      <td>72983.000000</td>\n",
       "      <td>72965.000000</td>\n",
       "      <td>72965.000000</td>\n",
       "      <td>72965.000000</td>\n",
       "      <td>72965.000000</td>\n",
       "      <td>72668.000000</td>\n",
       "      <td>72668.000000</td>\n",
       "      <td>72668.000000</td>\n",
       "      <td>72668.000000</td>\n",
       "      <td>72983.000000</td>\n",
       "      <td>72983.000000</td>\n",
       "      <td>72983.000000</td>\n",
       "      <td>72983.000000</td>\n",
       "      <td>72983.000000</td>\n",
       "    </tr>\n",
       "    <tr>\n",
       "      <th>mean</th>\n",
       "      <td>36511.428497</td>\n",
       "      <td>0.122988</td>\n",
       "      <td>2005.343052</td>\n",
       "      <td>4.176644</td>\n",
       "      <td>1.494299</td>\n",
       "      <td>71499.995917</td>\n",
       "      <td>6128.909217</td>\n",
       "      <td>7373.636031</td>\n",
       "      <td>8497.034332</td>\n",
       "      <td>9850.928240</td>\n",
       "      <td>6132.081287</td>\n",
       "      <td>7390.681827</td>\n",
       "      <td>8775.723331</td>\n",
       "      <td>10145.385314</td>\n",
       "      <td>26345.842155</td>\n",
       "      <td>58043.059945</td>\n",
       "      <td>6730.934326</td>\n",
       "      <td>0.025280</td>\n",
       "      <td>1276.580985</td>\n",
       "    </tr>\n",
       "    <tr>\n",
       "      <th>std</th>\n",
       "      <td>21077.241302</td>\n",
       "      <td>0.328425</td>\n",
       "      <td>1.731252</td>\n",
       "      <td>1.712210</td>\n",
       "      <td>0.521290</td>\n",
       "      <td>14578.913128</td>\n",
       "      <td>2461.992768</td>\n",
       "      <td>2722.491986</td>\n",
       "      <td>3156.285284</td>\n",
       "      <td>3385.789541</td>\n",
       "      <td>2434.567723</td>\n",
       "      <td>2686.248852</td>\n",
       "      <td>3090.702941</td>\n",
       "      <td>3310.254351</td>\n",
       "      <td>25717.351219</td>\n",
       "      <td>26151.640415</td>\n",
       "      <td>1767.846435</td>\n",
       "      <td>0.156975</td>\n",
       "      <td>598.846788</td>\n",
       "    </tr>\n",
       "    <tr>\n",
       "      <th>min</th>\n",
       "      <td>1.000000</td>\n",
       "      <td>0.000000</td>\n",
       "      <td>2001.000000</td>\n",
       "      <td>0.000000</td>\n",
       "      <td>0.000000</td>\n",
       "      <td>4825.000000</td>\n",
       "      <td>0.000000</td>\n",
       "      <td>0.000000</td>\n",
       "      <td>0.000000</td>\n",
       "      <td>0.000000</td>\n",
       "      <td>0.000000</td>\n",
       "      <td>0.000000</td>\n",
       "      <td>0.000000</td>\n",
       "      <td>0.000000</td>\n",
       "      <td>835.000000</td>\n",
       "      <td>2764.000000</td>\n",
       "      <td>1.000000</td>\n",
       "      <td>0.000000</td>\n",
       "      <td>462.000000</td>\n",
       "    </tr>\n",
       "    <tr>\n",
       "      <th>25%</th>\n",
       "      <td>18257.500000</td>\n",
       "      <td>0.000000</td>\n",
       "      <td>2004.000000</td>\n",
       "      <td>3.000000</td>\n",
       "      <td>1.000000</td>\n",
       "      <td>61837.000000</td>\n",
       "      <td>4273.000000</td>\n",
       "      <td>5406.000000</td>\n",
       "      <td>6280.000000</td>\n",
       "      <td>7493.000000</td>\n",
       "      <td>4275.000000</td>\n",
       "      <td>5414.000000</td>\n",
       "      <td>6536.000000</td>\n",
       "      <td>7784.000000</td>\n",
       "      <td>17212.000000</td>\n",
       "      <td>32124.000000</td>\n",
       "      <td>5435.000000</td>\n",
       "      <td>0.000000</td>\n",
       "      <td>837.000000</td>\n",
       "    </tr>\n",
       "    <tr>\n",
       "      <th>50%</th>\n",
       "      <td>36514.000000</td>\n",
       "      <td>0.000000</td>\n",
       "      <td>2005.000000</td>\n",
       "      <td>4.000000</td>\n",
       "      <td>1.000000</td>\n",
       "      <td>73361.000000</td>\n",
       "      <td>6097.000000</td>\n",
       "      <td>7303.000000</td>\n",
       "      <td>8444.000000</td>\n",
       "      <td>9789.000000</td>\n",
       "      <td>6062.000000</td>\n",
       "      <td>7313.000000</td>\n",
       "      <td>8729.000000</td>\n",
       "      <td>10103.000000</td>\n",
       "      <td>19662.000000</td>\n",
       "      <td>73108.000000</td>\n",
       "      <td>6700.000000</td>\n",
       "      <td>0.000000</td>\n",
       "      <td>1155.000000</td>\n",
       "    </tr>\n",
       "    <tr>\n",
       "      <th>75%</th>\n",
       "      <td>54764.500000</td>\n",
       "      <td>0.000000</td>\n",
       "      <td>2007.000000</td>\n",
       "      <td>5.000000</td>\n",
       "      <td>2.000000</td>\n",
       "      <td>82436.000000</td>\n",
       "      <td>7765.000000</td>\n",
       "      <td>9021.000000</td>\n",
       "      <td>10651.000000</td>\n",
       "      <td>12088.000000</td>\n",
       "      <td>7736.000000</td>\n",
       "      <td>9013.000000</td>\n",
       "      <td>10911.000000</td>\n",
       "      <td>12309.000000</td>\n",
       "      <td>22808.000000</td>\n",
       "      <td>80022.000000</td>\n",
       "      <td>7900.000000</td>\n",
       "      <td>0.000000</td>\n",
       "      <td>1623.000000</td>\n",
       "    </tr>\n",
       "    <tr>\n",
       "      <th>max</th>\n",
       "      <td>73014.000000</td>\n",
       "      <td>1.000000</td>\n",
       "      <td>2010.000000</td>\n",
       "      <td>9.000000</td>\n",
       "      <td>3.000000</td>\n",
       "      <td>115717.000000</td>\n",
       "      <td>35722.000000</td>\n",
       "      <td>36859.000000</td>\n",
       "      <td>39080.000000</td>\n",
       "      <td>41482.000000</td>\n",
       "      <td>35722.000000</td>\n",
       "      <td>36859.000000</td>\n",
       "      <td>39080.000000</td>\n",
       "      <td>41062.000000</td>\n",
       "      <td>99761.000000</td>\n",
       "      <td>99224.000000</td>\n",
       "      <td>45469.000000</td>\n",
       "      <td>1.000000</td>\n",
       "      <td>7498.000000</td>\n",
       "    </tr>\n",
       "  </tbody>\n",
       "</table>\n",
       "</div>"
      ],
      "text/plain": [
       "              RefId      IsBadBuy  ...  IsOnlineSale  WarrantyCost\n",
       "count  72983.000000  72983.000000  ...  72983.000000  72983.000000\n",
       "mean   36511.428497      0.122988  ...      0.025280   1276.580985\n",
       "std    21077.241302      0.328425  ...      0.156975    598.846788\n",
       "min        1.000000      0.000000  ...      0.000000    462.000000\n",
       "25%    18257.500000      0.000000  ...      0.000000    837.000000\n",
       "50%    36514.000000      0.000000  ...      0.000000   1155.000000\n",
       "75%    54764.500000      0.000000  ...      0.000000   1623.000000\n",
       "max    73014.000000      1.000000  ...      1.000000   7498.000000\n",
       "\n",
       "[8 rows x 19 columns]"
      ]
     },
     "execution_count": 450,
     "metadata": {
      "tags": []
     },
     "output_type": "execute_result"
    }
   ],
   "source": [
    "fixed_df.describe()"
   ]
  },
  {
   "cell_type": "markdown",
   "metadata": {
    "id": "oIOcrhP97LHd"
   },
   "source": [
    "## 2\n",
    "\n",
    "Постройте график рассеяния с пробегом в качестве оси абсцисс и ценой `MMRCurrentRetailAveragePrice` в качестве оси ординат. Автомобили без недостатков отметьте зеленым цветом, со скрытыми недостатками — красным."
   ]
  },
  {
   "cell_type": "code",
   "execution_count": 451,
   "metadata": {
    "id": "xc60Fm5z7LHd"
   },
   "outputs": [],
   "source": [
    "%matplotlib inline\n",
    "import matplotlib.pyplot as plt"
   ]
  },
  {
   "cell_type": "code",
   "execution_count": 452,
   "metadata": {
    "colab": {
     "base_uri": "https://localhost:8080/",
     "height": 686
    },
    "id": "ff5ae-ty7LHe",
    "outputId": "8b497dde-9de6-4cde-9032-decd64814ae8"
   },
   "outputs": [
    {
     "data": {
      "text/plain": [
       "Text(0, 0.5, 'MMRCurrentRetailAveragePrice')"
      ]
     },
     "execution_count": 452,
     "metadata": {
      "tags": []
     },
     "output_type": "execute_result"
    },
    {
     "data": {
      "image/png": "[encoded data removed]",
      "text/plain": [
       "<Figure size 800x800 with 1 Axes>"
      ]
     },
     "metadata": {
      "needs_background": "light",
      "tags": []
     },
     "output_type": "display_data"
    }
   ],
   "source": [
    "# место для кода\n",
    "# место для кода\n",
    "colors = {'GREEN':'green', 'RED': 'red'}\n",
    "i = fixed_df['AUCGUART'].notna()\n",
    "filter = fixed_df.loc[i, 'AUCGUART']\n",
    "\n",
    "plt.figure(figsize=(10, 10), dpi=80)\n",
    "plt.scatter(fixed_df.loc[i,'VehOdo'], fixed_df.loc[i,'MMRCurrentRetailAveragePrice'], \n",
    "            c=[colors[i] for i in filter], s = 20)\n",
    "plt.xlabel(\"VehOdo\")\n",
    "plt.ylabel(\"MMRCurrentRetailAveragePrice\")"
   ]
  },
  {
   "cell_type": "code",
   "execution_count": 453,
   "metadata": {
    "colab": {
     "base_uri": "https://localhost:8080/"
    },
    "id": "xHBwNBxkGDnd",
    "outputId": "5dfe6295-1857-450a-edce-ee9e5590a1bc"
   },
   "outputs": [
    {
     "name": "stdout",
     "output_type": "stream",
     "text": [
      "275     GREEN\n",
      "1123      RED\n",
      "Name: AUCGUART, dtype: object\n"
     ]
    }
   ],
   "source": [
    "filter = fixed_df.loc[fixed_df['AUCGUART'].notna(), 'AUCGUART']\n",
    "print(filter.drop_duplicates())"
   ]
  },
  {
   "cell_type": "markdown",
   "metadata": {
    "id": "d3Ejuas_7LHe"
   },
   "source": [
    "# Регрессия"
   ]
  },
  {
   "cell_type": "markdown",
   "metadata": {
    "id": "pO4a593d7LHf"
   },
   "source": [
    "## 3a\n",
    "\n",
    "Импортируйте из библиотеки `sklearn` все модели машинного обучения:\n",
    "\n",
    "`from sklearn import *`\n",
    "\n",
    "Трактуя задачу о предсказании наличия недостатков как задачу регрессии, натренируйте линейную модель [`LinearRegression`](https://scikit-learn.org/stable/modules/generated/sklearn.linear_model.LinearRegression.html) на каком-нибудь подмножестве признаков (например, тех же `VehOdo` и `MMRCurrentRetailAveragePrice`). \n",
    "\n",
    "С какой проблемой вы столкнулись? Какие способы ее решения вы можете предложить?\n",
    "\n",
    "*Функции, которые могут пригодиться при решении: `.fit(), .loc[], pd.notnull()`*\n",
    "\n",
    "*Создание модели:* `model1 = linear_model.LinearRegression()`\n",
    "\n",
    "*Тренировка:*\n",
    "`model1.fit(x, y)`\n",
    "\n"
   ]
  },
  {
   "cell_type": "code",
   "execution_count": 454,
   "metadata": {
    "id": "NXCD8ja17LHg"
   },
   "outputs": [],
   "source": [
    "# место для кода\n",
    "from sklearn import datasets, linear_model"
   ]
  },
  {
   "cell_type": "code",
   "execution_count": 455,
   "metadata": {
    "colab": {
     "base_uri": "https://localhost:8080/"
    },
    "id": "GcXpqpNv3mHb",
    "outputId": "e16c6a90-6efd-4174-c71f-5c52d7d1f474"
   },
   "outputs": [
    {
     "name": "stdout",
     "output_type": "stream",
     "text": [
      "count    72668.000000\n",
      "mean      8775.723331\n",
      "std       3090.702941\n",
      "min          0.000000\n",
      "25%       6536.000000\n",
      "50%       8729.000000\n",
      "75%      10911.000000\n",
      "max      39080.000000\n",
      "Name: MMRCurrentRetailAveragePrice, dtype: float64\n"
     ]
    }
   ],
   "source": [
    "res = fixed_df.loc[fixed_df['MMRCurrentRetailAveragePrice'].notna(), 'MMRCurrentRetailAveragePrice'].describe()\n",
    "print(res)"
   ]
  },
  {
   "cell_type": "code",
   "execution_count": 505,
   "metadata": {
    "id": "1TsM62uaEPK4"
   },
   "outputs": [],
   "source": [
    "i = (fixed_df['AUCGUART'].notna()) & (fixed_df['VehOdo'].notna()) & (fixed_df['MMRCurrentRetailAveragePrice'].notna())& (fixed_df['MMRCurrentRetailAveragePrice'] > 0)\n",
    "X = fixed_df.loc[i,['VehOdo','MMRCurrentRetailAveragePrice']]\n",
    "\n",
    "dataColor = {'GREEN':0, 'RED': 1}\n",
    "filter = fixed_df.loc[i,'AUCGUART']\n",
    "y = [dataColor[i] for i in filter]\n",
    "y = np.array(y, dtype=np.int64)\n",
    "y = pd.DataFrame(y)\n",
    "\n",
    "Xdata = X.values.reshape(len(X), 2)\n",
    "ydata = y.values.reshape(len(y), 1)"
   ]
  },
  {
   "cell_type": "code",
   "execution_count": 506,
   "metadata": {
    "colab": {
     "base_uri": "https://localhost:8080/"
    },
    "id": "Qr1hn5aRU1CP",
    "outputId": "a6b112ef-92e2-4577-85d1-c7e54cdb2682"
   },
   "outputs": [
    {
     "name": "stdout",
     "output_type": "stream",
     "text": [
      "(3395, 2)\n",
      "float64\n",
      "(3395, 1)\n",
      "int64\n"
     ]
    }
   ],
   "source": [
    "print(Xdata.shape)\n",
    "print(Xdata.dtype)\n",
    "print(ydata.shape)\n",
    "print(ydata.dtype)"
   ]
  },
  {
   "cell_type": "code",
   "execution_count": 507,
   "metadata": {
    "colab": {
     "base_uri": "https://localhost:8080/"
    },
    "id": "QvlR1DWdCjdo",
    "outputId": "0af04d36-7e84-4704-98b0-e48e8f23eb20"
   },
   "outputs": [
    {
     "data": {
      "text/plain": [
       "LinearRegression(copy_X=True, fit_intercept=True, n_jobs=None, normalize=False)"
      ]
     },
     "execution_count": 507,
     "metadata": {
      "tags": []
     },
     "output_type": "execute_result"
    }
   ],
   "source": [
    "X_train = Xdata[:-20]\n",
    "y_train = ydata[:-20]\n",
    "\n",
    "regr = linear_model.LinearRegression()\n",
    "regr.fit(X_train, y_train)"
   ]
  },
  {
   "cell_type": "code",
   "execution_count": 508,
   "metadata": {
    "colab": {
     "base_uri": "https://localhost:8080/"
    },
    "id": "tpu4sFvrCUix",
    "outputId": "516bc432-c0ea-4609-fbc6-1d96460d7001"
   },
   "outputs": [
    {
     "name": "stdout",
     "output_type": "stream",
     "text": [
      "[-0.03290872]\n",
      "[[ 1.33767985e-06 -5.33694455e-06]]\n"
     ]
    }
   ],
   "source": [
    "print(regr.intercept_)\n",
    "print(regr.coef_)"
   ]
  },
  {
   "cell_type": "markdown",
   "metadata": {
    "id": "zuUo2wH67LHg"
   },
   "source": [
    "## 3b\n",
    "\n",
    "Выполните предсказание для всех объектов обучающей выборки и присвойте результат переменной prediction\n",
    "\n",
    "*Функции, которые могут пригодиться при решении: `model.predict()`*"
   ]
  },
  {
   "cell_type": "code",
   "execution_count": 509,
   "metadata": {
    "id": "wqR9JadN7LHg"
   },
   "outputs": [],
   "source": [
    "# место для кода\n",
    "# Make predictions using the testing set\n",
    "X_test = Xdata[-20:]\n",
    "y_test = ydata[-20:]\n",
    "\n",
    "y_pred = regr.predict(X_test)"
   ]
  },
  {
   "cell_type": "code",
   "execution_count": 510,
   "metadata": {
    "colab": {
     "base_uri": "https://localhost:8080/"
    },
    "id": "A5GKWzKBXewZ",
    "outputId": "76810415-4fd9-4abc-84f7-d4137b7d4fdf"
   },
   "outputs": [
    {
     "name": "stdout",
     "output_type": "stream",
     "text": [
      "float64\n",
      "int64\n"
     ]
    }
   ],
   "source": [
    "print(y_pred.dtype)\n",
    "print(y_test.dtype)"
   ]
  },
  {
   "cell_type": "markdown",
   "metadata": {
    "id": "mevx6J1d7LHh"
   },
   "source": [
    "## 3c\n",
    "\n",
    "Преобразуйте получившийся вектор предсказаний `prediction` к значениям `{0,1}`. Это можно сделать, например, используя list comprehensions: https://docs.python.org/3/tutorial/datastructures.html#list-comprehensions \n",
    "\n",
    "`predictionClass = [1 if prediction[i] > 0.5 else 0 for i in range(prediction.shape[0])]`"
   ]
  },
  {
   "cell_type": "code",
   "execution_count": 511,
   "metadata": {
    "id": "60gcwr9K7LHh"
   },
   "outputs": [],
   "source": [
    "# место для кода\n",
    "predictionClass = [1 if y_pred[i] > 0.05 else 0 for i in range(y_pred.shape[0])]"
   ]
  },
  {
   "cell_type": "code",
   "execution_count": 512,
   "metadata": {
    "colab": {
     "base_uri": "https://localhost:8080/",
     "height": 669
    },
    "id": "8E8nUKtQYG8d",
    "outputId": "72cd9bba-52ec-4ce1-bced-ca81af306e60"
   },
   "outputs": [
    {
     "data": {
      "text/html": [
       "<div>\n",
       "<style scoped>\n",
       "    .dataframe tbody tr th:only-of-type {\n",
       "        vertical-align: middle;\n",
       "    }\n",
       "\n",
       "    .dataframe tbody tr th {\n",
       "        vertical-align: top;\n",
       "    }\n",
       "\n",
       "    .dataframe thead th {\n",
       "        text-align: right;\n",
       "    }\n",
       "</style>\n",
       "<table border=\"1\" class=\"dataframe\">\n",
       "  <thead>\n",
       "    <tr style=\"text-align: right;\">\n",
       "      <th></th>\n",
       "      <th>Actual</th>\n",
       "      <th>Predicted</th>\n",
       "    </tr>\n",
       "  </thead>\n",
       "  <tbody>\n",
       "    <tr>\n",
       "      <th>0</th>\n",
       "      <td>0</td>\n",
       "      <td>1</td>\n",
       "    </tr>\n",
       "    <tr>\n",
       "      <th>1</th>\n",
       "      <td>0</td>\n",
       "      <td>0</td>\n",
       "    </tr>\n",
       "    <tr>\n",
       "      <th>2</th>\n",
       "      <td>1</td>\n",
       "      <td>0</td>\n",
       "    </tr>\n",
       "    <tr>\n",
       "      <th>3</th>\n",
       "      <td>1</td>\n",
       "      <td>1</td>\n",
       "    </tr>\n",
       "    <tr>\n",
       "      <th>4</th>\n",
       "      <td>0</td>\n",
       "      <td>1</td>\n",
       "    </tr>\n",
       "    <tr>\n",
       "      <th>5</th>\n",
       "      <td>0</td>\n",
       "      <td>0</td>\n",
       "    </tr>\n",
       "    <tr>\n",
       "      <th>6</th>\n",
       "      <td>1</td>\n",
       "      <td>0</td>\n",
       "    </tr>\n",
       "    <tr>\n",
       "      <th>7</th>\n",
       "      <td>0</td>\n",
       "      <td>1</td>\n",
       "    </tr>\n",
       "    <tr>\n",
       "      <th>8</th>\n",
       "      <td>0</td>\n",
       "      <td>0</td>\n",
       "    </tr>\n",
       "    <tr>\n",
       "      <th>9</th>\n",
       "      <td>1</td>\n",
       "      <td>0</td>\n",
       "    </tr>\n",
       "    <tr>\n",
       "      <th>10</th>\n",
       "      <td>0</td>\n",
       "      <td>0</td>\n",
       "    </tr>\n",
       "    <tr>\n",
       "      <th>11</th>\n",
       "      <td>1</td>\n",
       "      <td>1</td>\n",
       "    </tr>\n",
       "    <tr>\n",
       "      <th>12</th>\n",
       "      <td>0</td>\n",
       "      <td>1</td>\n",
       "    </tr>\n",
       "    <tr>\n",
       "      <th>13</th>\n",
       "      <td>0</td>\n",
       "      <td>1</td>\n",
       "    </tr>\n",
       "    <tr>\n",
       "      <th>14</th>\n",
       "      <td>0</td>\n",
       "      <td>0</td>\n",
       "    </tr>\n",
       "    <tr>\n",
       "      <th>15</th>\n",
       "      <td>1</td>\n",
       "      <td>1</td>\n",
       "    </tr>\n",
       "    <tr>\n",
       "      <th>16</th>\n",
       "      <td>1</td>\n",
       "      <td>0</td>\n",
       "    </tr>\n",
       "    <tr>\n",
       "      <th>17</th>\n",
       "      <td>1</td>\n",
       "      <td>0</td>\n",
       "    </tr>\n",
       "    <tr>\n",
       "      <th>18</th>\n",
       "      <td>1</td>\n",
       "      <td>0</td>\n",
       "    </tr>\n",
       "    <tr>\n",
       "      <th>19</th>\n",
       "      <td>1</td>\n",
       "      <td>0</td>\n",
       "    </tr>\n",
       "  </tbody>\n",
       "</table>\n",
       "</div>"
      ],
      "text/plain": [
       "    Actual  Predicted\n",
       "0        0          1\n",
       "1        0          0\n",
       "2        1          0\n",
       "3        1          1\n",
       "4        0          1\n",
       "5        0          0\n",
       "6        1          0\n",
       "7        0          1\n",
       "8        0          0\n",
       "9        1          0\n",
       "10       0          0\n",
       "11       1          1\n",
       "12       0          1\n",
       "13       0          1\n",
       "14       0          0\n",
       "15       1          1\n",
       "16       1          0\n",
       "17       1          0\n",
       "18       1          0\n",
       "19       1          0"
      ]
     },
     "execution_count": 512,
     "metadata": {
      "tags": []
     },
     "output_type": "execute_result"
    }
   ],
   "source": [
    "df = pd.DataFrame({'Actual': y_test.ravel(), 'Predicted': predictionClass})\n",
    "df"
   ]
  },
  {
   "cell_type": "markdown",
   "metadata": {
    "id": "UgUxVAtv7LHi"
   },
   "source": [
    "## 3d\n",
    "\n",
    "Постройте отчет по качеству классификации и матрицу ошибок. Как изменятся отчет и матрица ошибок, если изменить порог в задании 3c (по умолчанию его значение равно 0.5)?\n",
    "\n",
    "*Функции, которые могут пригодиться при решении: `print(metrics.classification_report(...))`, `print(metrics.confusion_matrix(...))`*\n",
    "\n",
    "Функция classification_report для каждого класса объектов считает точность (precision) в этом классе и полноту (recall). Полнота - это процент объектов данного класса, которые ваш метод предсказания тоже отнес к этому классу, среди всех объектов данного класса. Точность (precision) - то же самое, только среди всех объектов, предсказанных для этого класса.\n",
    "\n",
    "Функция confusion_matrix возвращает матрицу с количествами объектов. Номера столбцов матрицы - это номера предсказанных классов, строки - это номера правильных классов. Например, элемент M[0,1] - это количество машин, где на самом деле IsBadBuy = 0, а вы предсказали 1."
   ]
  },
  {
   "cell_type": "code",
   "execution_count": 513,
   "metadata": {
    "colab": {
     "base_uri": "https://localhost:8080/"
    },
    "id": "VMrwS7SSgvsj",
    "outputId": "ef363972-fcd6-4079-dccb-6b3b085798d4"
   },
   "outputs": [
    {
     "name": "stdout",
     "output_type": "stream",
     "text": [
      "(20, 1)\n",
      "(20, 1)\n"
     ]
    }
   ],
   "source": [
    "print(y_test.shape)\n",
    "print(y_pred.shape)"
   ]
  },
  {
   "cell_type": "code",
   "execution_count": 515,
   "metadata": {
    "colab": {
     "base_uri": "https://localhost:8080/"
    },
    "id": "yoiFasMlf0j5",
    "outputId": "fd964466-f411-4b4c-e764-f9807d83527c"
   },
   "outputs": [
    {
     "name": "stdout",
     "output_type": "stream",
     "text": [
      "              precision    recall  f1-score   support\n",
      "\n",
      "           0       0.42      0.50      0.45        10\n",
      "           1       0.38      0.30      0.33        10\n",
      "\n",
      "    accuracy                           0.40        20\n",
      "   macro avg       0.40      0.40      0.39        20\n",
      "weighted avg       0.40      0.40      0.39        20\n",
      "\n"
     ]
    }
   ],
   "source": [
    "# место для кода\n",
    "print(metrics.classification_report(y_test, predictionClass))"
   ]
  },
  {
   "cell_type": "code",
   "execution_count": 516,
   "metadata": {
    "colab": {
     "base_uri": "https://localhost:8080/"
    },
    "id": "YVW__lMfF9l_",
    "outputId": "9c2f8d2b-044a-4331-f28c-a5471fc59e9a"
   },
   "outputs": [
    {
     "name": "stdout",
     "output_type": "stream",
     "text": [
      "[[5 5]\n",
      " [7 3]]\n"
     ]
    }
   ],
   "source": [
    "print(metrics.confusion_matrix(y_test, predictionClass))"
   ]
  },
  {
   "cell_type": "markdown",
   "metadata": {
    "id": "Bxj-PAPI7LHj"
   },
   "source": [
    "# Классификация\n",
    "\n",
    "## 4a\n",
    "Трактуя задачу как задачу классификации, постройте модель классификации «решающее дерево» глубины 20  (все аналогично линейной регрессии).\n",
    "\n",
    "\n",
    "*Функции, которые могут пригодиться при решении: `tree.DecisionTreeClassifier(max_depth=20) `*"
   ]
  },
  {
   "cell_type": "code",
   "execution_count": 517,
   "metadata": {
    "id": "72UMGOKwo8NM"
   },
   "outputs": [],
   "source": [
    "from sklearn.tree import DecisionTreeClassifier"
   ]
  },
  {
   "cell_type": "code",
   "execution_count": 523,
   "metadata": {
    "colab": {
     "base_uri": "https://localhost:8080/"
    },
    "id": "LC-XbKPb7LHj",
    "outputId": "8efb58ec-6859-43f7-c449-3cb9ada6ff47"
   },
   "outputs": [
    {
     "data": {
      "text/plain": [
       "DecisionTreeClassifier(ccp_alpha=0.0, class_weight=None, criterion='gini',\n",
       "                       max_depth=20, max_features=None, max_leaf_nodes=None,\n",
       "                       min_impurity_decrease=0.0, min_impurity_split=None,\n",
       "                       min_samples_leaf=1, min_samples_split=2,\n",
       "                       min_weight_fraction_leaf=0.0, presort='deprecated',\n",
       "                       random_state=None, splitter='best')"
      ]
     },
     "execution_count": 523,
     "metadata": {
      "tags": []
     },
     "output_type": "execute_result"
    }
   ],
   "source": [
    "# место для кода\n",
    "tree = DecisionTreeClassifier(max_depth=20)\n",
    "tree.fit(X_train, y_train)"
   ]
  },
  {
   "cell_type": "markdown",
   "metadata": {
    "id": "TjGJAnsg7LHk"
   },
   "source": [
    "## 4b\n",
    "\n",
    "Решающее дерево предсказывает вероятности. С помощью построенной модели рассчитайте вероятности наличия скрываемых недостатков.\n",
    "\n",
    "*Функции, которые могут пригодиться при решении: `model.predict_proba() `*"
   ]
  },
  {
   "cell_type": "code",
   "execution_count": 524,
   "metadata": {
    "id": "wCDn2vaR7LHk"
   },
   "outputs": [],
   "source": [
    "# место для кода\n",
    "y_pred = tree.predict_proba(X_test)"
   ]
  },
  {
   "cell_type": "code",
   "execution_count": 525,
   "metadata": {
    "colab": {
     "base_uri": "https://localhost:8080/"
    },
    "id": "54eYW6YMpu2O",
    "outputId": "ba043f90-1592-4d07-ceea-e33829b8480a"
   },
   "outputs": [
    {
     "name": "stdout",
     "output_type": "stream",
     "text": [
      "[[1. 0.]\n",
      " [1. 0.]\n",
      " [1. 0.]\n",
      " [1. 0.]\n",
      " [1. 0.]\n",
      " [1. 0.]\n",
      " [1. 0.]\n",
      " [1. 0.]\n",
      " [1. 0.]\n",
      " [1. 0.]\n",
      " [1. 0.]\n",
      " [1. 0.]\n",
      " [1. 0.]\n",
      " [1. 0.]\n",
      " [1. 0.]\n",
      " [1. 0.]\n",
      " [1. 0.]\n",
      " [1. 0.]\n",
      " [1. 0.]\n",
      " [1. 0.]]\n"
     ]
    }
   ],
   "source": [
    "print(y_pred)"
   ]
  },
  {
   "cell_type": "markdown",
   "metadata": {
    "id": "Xz1WpBR27LHl"
   },
   "source": [
    "## 4c\n",
    "\n",
    "Преобразуйте получившийся вектор предсказаний `prediction` к значениям `{0,1}`. Постройте отчет о классификации и матрицу ошибок. Какой метод оказался лучше?"
   ]
  },
  {
   "cell_type": "code",
   "execution_count": 526,
   "metadata": {
    "colab": {
     "base_uri": "https://localhost:8080/",
     "height": 248
    },
    "id": "nrS6bu0A7LHl",
    "outputId": "fc4ea22e-232c-48db-e82d-7bcbdb79c04b"
   },
   "outputs": [
    {
     "ename": "ValueError",
     "evalue": "ignored",
     "output_type": "error",
     "traceback": [
      "\u001b[0;31m---------------------------------------------------------------------------\u001b[0m",
      "\u001b[0;31mValueError\u001b[0m                                Traceback (most recent call last)",
      "\u001b[0;32m<ipython-input-526-00cca5db8ddd>\u001b[0m in \u001b[0;36m<module>\u001b[0;34m()\u001b[0m\n\u001b[1;32m      1\u001b[0m \u001b[0;31m# место для кода\u001b[0m\u001b[0;34m\u001b[0m\u001b[0;34m\u001b[0m\u001b[0;34m\u001b[0m\u001b[0m\n\u001b[0;32m----> 2\u001b[0;31m \u001b[0mpredictionClass\u001b[0m \u001b[0;34m=\u001b[0m \u001b[0;34m[\u001b[0m\u001b[0;36m1\u001b[0m \u001b[0;32mif\u001b[0m \u001b[0my_pred\u001b[0m\u001b[0;34m[\u001b[0m\u001b[0mi\u001b[0m\u001b[0;34m]\u001b[0m \u001b[0;34m>\u001b[0m \u001b[0;36m0.05\u001b[0m \u001b[0;32melse\u001b[0m \u001b[0;36m0\u001b[0m \u001b[0;32mfor\u001b[0m \u001b[0mi\u001b[0m \u001b[0;32min\u001b[0m \u001b[0mrange\u001b[0m\u001b[0;34m(\u001b[0m\u001b[0my_pred\u001b[0m\u001b[0;34m.\u001b[0m\u001b[0mshape\u001b[0m\u001b[0;34m[\u001b[0m\u001b[0;36m0\u001b[0m\u001b[0;34m]\u001b[0m\u001b[0;34m)\u001b[0m\u001b[0;34m]\u001b[0m\u001b[0;34m\u001b[0m\u001b[0;34m\u001b[0m\u001b[0m\n\u001b[0m",
      "\u001b[0;32m<ipython-input-526-00cca5db8ddd>\u001b[0m in \u001b[0;36m<listcomp>\u001b[0;34m(.0)\u001b[0m\n\u001b[1;32m      1\u001b[0m \u001b[0;31m# место для кода\u001b[0m\u001b[0;34m\u001b[0m\u001b[0;34m\u001b[0m\u001b[0;34m\u001b[0m\u001b[0m\n\u001b[0;32m----> 2\u001b[0;31m \u001b[0mpredictionClass\u001b[0m \u001b[0;34m=\u001b[0m \u001b[0;34m[\u001b[0m\u001b[0;36m1\u001b[0m \u001b[0;32mif\u001b[0m \u001b[0my_pred\u001b[0m\u001b[0;34m[\u001b[0m\u001b[0mi\u001b[0m\u001b[0;34m]\u001b[0m \u001b[0;34m>\u001b[0m \u001b[0;36m0.05\u001b[0m \u001b[0;32melse\u001b[0m \u001b[0;36m0\u001b[0m \u001b[0;32mfor\u001b[0m \u001b[0mi\u001b[0m \u001b[0;32min\u001b[0m \u001b[0mrange\u001b[0m\u001b[0;34m(\u001b[0m\u001b[0my_pred\u001b[0m\u001b[0;34m.\u001b[0m\u001b[0mshape\u001b[0m\u001b[0;34m[\u001b[0m\u001b[0;36m0\u001b[0m\u001b[0;34m]\u001b[0m\u001b[0;34m)\u001b[0m\u001b[0;34m]\u001b[0m\u001b[0;34m\u001b[0m\u001b[0;34m\u001b[0m\u001b[0m\n\u001b[0m",
      "\u001b[0;31mValueError\u001b[0m: The truth value of an array with more than one element is ambiguous. Use a.any() or a.all()"
     ]
    }
   ],
   "source": [
    "# место для кода\n",
    "predictionClass = [1 if y_pred[i] > 0.05 else 0 for i in range(y_pred.shape[0])]"
   ]
  },
  {
   "cell_type": "code",
   "execution_count": null,
   "metadata": {
    "id": "lA5uwqG_GmLr"
   },
   "outputs": [],
   "source": [
    "print(metrics.classification_report(y_test, predictionClass))"
   ]
  },
  {
   "cell_type": "code",
   "execution_count": null,
   "metadata": {
    "id": "DKk6dgUdGpAz"
   },
   "outputs": [],
   "source": [
    "print(metrics.confusion_matrix(y_test, predictionClass))"
   ]
  },
  {
   "cell_type": "markdown",
   "metadata": {
    "id": "sc2WiMiL7LHm"
   },
   "source": [
    "# Кросс-валидация\n",
    "## 5a\n",
    "\n",
    "\n",
    "Разделите исходную выборку на две части, например, используя [slices](https://pythonz.net/references/named/slice/):\n",
    "\n",
    "`dataTrain = data.loc[0:34999,]\n",
    "dataTest = data.loc[35000:69999,]`"
   ]
  },
  {
   "cell_type": "code",
   "execution_count": 536,
   "metadata": {
    "id": "K4jaYM787LHm"
   },
   "outputs": [],
   "source": [
    "# место для кода\n",
    "length = round(len(ydata)/2)\n",
    "dataTrain = ydata[0:length-1]\n",
    "dataTest = ydata[length:]"
   ]
  },
  {
   "cell_type": "code",
   "execution_count": 537,
   "metadata": {
    "colab": {
     "base_uri": "https://localhost:8080/"
    },
    "id": "lld7f6NdsO56",
    "outputId": "b4249db5-c826-47fe-faf3-7bdf2fe57886"
   },
   "outputs": [
    {
     "name": "stdout",
     "output_type": "stream",
     "text": [
      "1698\n",
      "(3395, 1)\n",
      "(1697, 1)\n",
      "(1697, 1)\n"
     ]
    }
   ],
   "source": [
    "print(length)\n",
    "print(ydata.shape)\n",
    "print(dataTrain.shape)\n",
    "print(dataTest.shape)"
   ]
  },
  {
   "cell_type": "markdown",
   "metadata": {
    "id": "bxjTIK1O7LHn"
   },
   "source": [
    "## 5b\n",
    "\n",
    "Натренируйте решающее дерево на  `dataTrain` и примените к  `dataTrain` и dataTest, вычислив для каждого случая точность предсказания. \n",
    "\n",
    "Проведите несколько экспериментов для различных глубин дерева. Напишите в комментариях, для каких глубин модель недообучена, для каких переобучена и где точка раннего останова.\n",
    "\n",
    "*Функции, которые могут пригодиться при решении: `metrics.accuracy_score() `*"
   ]
  },
  {
   "cell_type": "code",
   "execution_count": 538,
   "metadata": {
    "colab": {
     "base_uri": "https://localhost:8080/"
    },
    "id": "scpTloPK7LHn",
    "outputId": "4aa61269-1102-41a1-e663-78f3c1c6b622"
   },
   "outputs": [
    {
     "data": {
      "text/plain": [
       "0.9552150854449027"
      ]
     },
     "execution_count": 538,
     "metadata": {
      "tags": []
     },
     "output_type": "execute_result"
    }
   ],
   "source": [
    "# место для кода\n",
    "metrics.accuracy_score(dataTrain, dataTest)"
   ]
  },
  {
   "cell_type": "markdown",
   "metadata": {
    "id": "acLiAq027LHn"
   },
   "source": [
    "# Решающая функция\n",
    "## 6a\n",
    "\n",
    "Вернемся к модели решающего дерева глубины 20, построенного по всей обучающей выборке `data`. Пусть цена ошибки неправильного предсказания 0 равна 1000, а неправильного предсказания 1 — 100.\n",
    "\n",
    "Вычислите функцию потерь &mdash; среднюю ошибку на всей обучающей выборке."
   ]
  },
  {
   "cell_type": "code",
   "execution_count": null,
   "metadata": {
    "id": "4cwXMhFY7LHo"
   },
   "outputs": [],
   "source": [
    "# место для кода"
   ]
  },
  {
   "cell_type": "markdown",
   "metadata": {
    "id": "kDRLD2MW7LHo"
   },
   "source": [
    "## 6b\n",
    "\n",
    "Выясните, как нужно изменить решающую функцию `[0 if predictionProb[i][0] > 0.5 else 1 for i in range(prediction.shape[0])]`, чтобы функция потерь была минимальна?\n",
    "\n",
    "Найдите оптимальную решающую функцию и минимальное значение функционала потерь методом подбора или пользуясь формулой из лекции 2 (слайд Decision function).\n",
    "\n"
   ]
  },
  {
   "cell_type": "code",
   "execution_count": null,
   "metadata": {
    "id": "yWfktg5D7LHp"
   },
   "outputs": [],
   "source": [
    "# место для кода"
   ]
  }
 ],
 "metadata": {
  "colab": {
   "name": "lab2-general-concepts.ipynb",
   "provenance": [],
   "toc_visible": true
  },
  "kernelspec": {
   "display_name": "Python 3",
   "language": "python",
   "name": "python3"
  },
  "language_info": {
   "codemirror_mode": {
    "name": "ipython",
    "version": 3
   },
   "file_extension": ".py",
   "mimetype": "text/x-python",
   "name": "python",
   "nbconvert_exporter": "python",
   "pygments_lexer": "ipython3",
   "version": "3.8.3"
  }
 },
 "nbformat": 4,
 "nbformat_minor": 1
}
